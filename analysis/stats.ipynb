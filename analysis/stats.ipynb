{
 "cells": [
  {
   "cell_type": "code",
   "execution_count": 1,
   "id": "ed20d6a5",
   "metadata": {},
   "outputs": [],
   "source": [
    "import numpy as np\n",
    "import pandas as pd\n",
    "import xarray as xr\n",
    "import matplotlib.pyplot as plt\n",
    "import cmocean.cm as cm\n",
    "import seaborn as sns\n",
    "from scipy.stats import mannwhitneyu, ks_2samp\n",
    "plt.style.use(\"ggplot\")"
   ]
  },
  {
   "cell_type": "code",
   "execution_count": 2,
   "id": "2f1d4102",
   "metadata": {},
   "outputs": [],
   "source": [
    "ds_open = xr.open_dataset(\"../data/open/fields_biogem_3d.nc\")\n",
    "ds_close = xr.open_dataset(\"../data/close/fields_biogem_3d.nc\")"
   ]
  },
  {
   "cell_type": "markdown",
   "id": "c173e0d9",
   "metadata": {},
   "source": [
    "# Surface density"
   ]
  },
  {
   "cell_type": "code",
   "execution_count": 77,
   "id": "704f6420",
   "metadata": {},
   "outputs": [],
   "source": [
    "sur_rho_open = ds_open[\"phys_ocn_rho\"].isel(time=0, zt=0)\n",
    "sur_rho_close = ds_close[\"phys_ocn_rho\"].isel(time=0, zt=0)\n",
    "sur_rho_anom = sur_rho_close - sur_rho_open\n",
    "\n",
    "vert_rho_open = ds_open[\"phys_ocn_rho\"].isel(time=0).mean(dim=\"lon\")\n",
    "vert_rho_close = ds_close[\"phys_ocn_rho\"].isel(time=0).mean(dim=\"lon\")\n",
    "vert_rho_anom = vert_rho_close - vert_rho_open"
   ]
  },
  {
   "cell_type": "code",
   "execution_count": 79,
   "id": "41370709",
   "metadata": {},
   "outputs": [
    {
     "name": "stdout",
     "output_type": "stream",
     "text": [
      "Mean values: 1025.36962890625\n",
      "\n",
      "Median values: 1025.149169921875\n",
      "\n",
      "Max values: 1027.7960205078125\n",
      "\n",
      "ValuesView(Coordinates:\n",
      "    time     float64 1e+04\n",
      "  * lon      (lon) float64 -85.0\n",
      "  * lat      (lat) float64 -66.44\n",
      "    zt       float64 40.42)\n",
      "#####################################################\n",
      "\n",
      "Min values: 1022.1595458984375\n",
      "\n",
      "ValuesView(Coordinates:\n",
      "    time     float64 1e+04\n",
      "  * lon      (lon) float64 -235.0\n",
      "  * lat      (lat) float64 -1.592\n",
      "    zt       float64 40.42)\n"
     ]
    }
   ],
   "source": [
    "# open\n",
    "mean_value = sur_rho_open.mean().values\n",
    "print(f\"Mean values: {mean_value}\\n\")\n",
    "\n",
    "median_value = sur_rho_open.median().values\n",
    "print(f\"Median values: {median_value}\\n\")\n",
    "\n",
    "max_value = sur_rho_open.max().values\n",
    "print(f\"Max values: {max_value}\\n\")\n",
    "print(sur_rho_open.where(sur_rho_open == max_value, drop=True).coords.values())\n",
    "\n",
    "print(\"#####################################################\\n\")\n",
    "# Find the latitude and longitude for the minimum value\n",
    "min_value = sur_rho_open.min().values\n",
    "print(f\"Min values: {min_value}\\n\")\n",
    "print(sur_rho_open.where(sur_rho_open == min_value, drop=True).coords.values())"
   ]
  },
  {
   "cell_type": "code",
   "execution_count": 78,
   "id": "accf3f40",
   "metadata": {},
   "outputs": [
    {
     "name": "stdout",
     "output_type": "stream",
     "text": [
      "Mean values: 1025.373046875\n",
      "\n",
      "Median values: 1025.154052734375\n",
      "\n",
      "Max values: 1027.79833984375\n",
      "\n",
      "ValuesView(Coordinates:\n",
      "    time     float64 1e+04\n",
      "  * lon      (lon) float64 -85.0\n",
      "  * lat      (lat) float64 -66.44\n",
      "    zt       float64 40.42)\n",
      "#####################################################\n",
      "\n",
      "Min values: 1021.6925659179688\n",
      "\n",
      "ValuesView(Coordinates:\n",
      "    time     float64 1e+04\n",
      "  * lon      (lon) float64 -235.0\n",
      "  * lat      (lat) float64 -1.592\n",
      "    zt       float64 40.42)\n"
     ]
    }
   ],
   "source": [
    "# closed\n",
    "mean_value = sur_rho_close.mean().values\n",
    "print(f\"Mean values: {mean_value}\\n\")\n",
    "\n",
    "median_value = sur_rho_close.median().values\n",
    "print(f\"Median values: {median_value}\\n\")\n",
    "\n",
    "max_value = sur_rho_close.max().values\n",
    "print(f\"Max values: {max_value}\\n\")\n",
    "print(sur_rho_close.where(sur_rho_close == max_value, drop=True).coords.values())\n",
    "\n",
    "print(\"#####################################################\\n\")\n",
    "# Find the latitude and longitude for the minimum value\n",
    "min_value = sur_rho_close.min().values\n",
    "print(f\"Min values: {min_value}\\n\")\n",
    "print(sur_rho_close.where(sur_rho_close == min_value, drop=True).coords.values())"
   ]
  },
  {
   "cell_type": "code",
   "execution_count": 80,
   "id": "803d5165",
   "metadata": {},
   "outputs": [
    {
     "name": "stdout",
     "output_type": "stream",
     "text": [
      "Mean values: -0.009622327983379364\n",
      "\n",
      "Median values: -0.029296875\n",
      "\n",
      "Max values: 0.45086669921875\n",
      "\n",
      "ValuesView(Coordinates:\n",
      "    time     float64 1e+04\n",
      "  * lon      (lon) float64 -215.0\n",
      "  * lat      (lat) float64 -14.48\n",
      "    zt       float64 40.42)\n",
      "#####################################################\n",
      "\n",
      "Min values: -0.665771484375\n",
      "\n",
      "ValuesView(Coordinates:\n",
      "    time     float64 1e+04\n",
      "  * lon      (lon) float64 -235.0\n",
      "  * lat      (lat) float64 4.78\n",
      "    zt       float64 40.42)\n"
     ]
    }
   ],
   "source": [
    "# closed\n",
    "mean_value = sur_rho_anom.mean().values\n",
    "print(f\"Mean values: {mean_value}\\n\")\n",
    "\n",
    "median_value = sur_rho_anom.median().values\n",
    "print(f\"Median values: {median_value}\\n\")\n",
    "\n",
    "max_value = sur_rho_anom.max().values\n",
    "print(f\"Max values: {max_value}\\n\")\n",
    "print(sur_rho_anom.where(sur_rho_anom == max_value, drop=True).coords.values())\n",
    "\n",
    "print(\"#####################################################\\n\")\n",
    "# Find the latitude and longitude for the minimum value\n",
    "min_value = sur_rho_anom.min().values\n",
    "print(f\"Min values: {min_value}\\n\")\n",
    "print(sur_rho_anom.where(sur_rho_anom == min_value, drop=True).coords.values())"
   ]
  },
  {
   "cell_type": "code",
   "execution_count": 83,
   "id": "e0313f43",
   "metadata": {},
   "outputs": [
    {
     "name": "stdout",
     "output_type": "stream",
     "text": [
      "Mean values: 1027.22119140625\n",
      "\n",
      "Median values: 1027.6683349609375\n",
      "\n",
      "Max values: 1027.8292236328125\n",
      "\n",
      "ValuesView(Coordinates:\n",
      "    time     float64 1e+04\n",
      "  * lat      (lat) float64 -76.46\n",
      "  * zt       (zt) float64 2.757e+03)\n",
      "#####################################################\n",
      "\n",
      "Min values: 1023.7064819335938\n",
      "\n",
      "ValuesView(Coordinates:\n",
      "    time     float64 1e+04\n",
      "  * lat      (lat) float64 1.592\n",
      "  * zt       (zt) float64 40.42)\n"
     ]
    }
   ],
   "source": [
    "# open\n",
    "mean_value = vert_rho_open.mean().values\n",
    "print(f\"Mean values: {mean_value}\\n\")\n",
    "\n",
    "median_value = vert_rho_open.median().values\n",
    "print(f\"Median values: {median_value}\\n\")\n",
    "\n",
    "max_value = vert_rho_open.max().values\n",
    "print(f\"Max values: {max_value}\\n\")\n",
    "print(vert_rho_open.where(vert_rho_open == max_value, drop=True).coords.values())\n",
    "\n",
    "print(\"#####################################################\\n\")\n",
    "# Find the latitude and longitude for the minimum value\n",
    "min_value = vert_rho_open.min().values\n",
    "print(f\"Min values: {min_value}\\n\")\n",
    "print(vert_rho_open.where(vert_rho_open == min_value, drop=True).coords.values())"
   ]
  },
  {
   "cell_type": "code",
   "execution_count": 89,
   "id": "c6200309",
   "metadata": {},
   "outputs": [
    {
     "name": "stdout",
     "output_type": "stream",
     "text": [
      "Mean values: 1027.2181396484375\n",
      "\n",
      "Median values: 1027.6688232421875\n",
      "\n",
      "Max values: 1027.832275390625\n",
      "\n",
      "ValuesView(Coordinates:\n",
      "    time     float64 1e+04\n",
      "  * lat      (lat) float64 -76.46\n",
      "  * zt       (zt) float64 2.757e+03)\n",
      "#####################################################\n",
      "\n",
      "Min values: 1023.7010498046875\n",
      "\n",
      "ValuesView(Coordinates:\n",
      "    time     float64 1e+04\n",
      "  * lat      (lat) float64 1.592\n",
      "  * zt       (zt) float64 40.42)\n"
     ]
    }
   ],
   "source": [
    "# open\n",
    "mean_value = vert_rho_close.mean().values\n",
    "print(f\"Mean values: {mean_value}\\n\")\n",
    "\n",
    "median_value = vert_rho_close.median().values\n",
    "print(f\"Median values: {median_value}\\n\")\n",
    "\n",
    "max_value = vert_rho_close.max().values\n",
    "print(f\"Max values: {max_value}\\n\")\n",
    "print(vert_rho_close.where(vert_rho_close == max_value, drop=True).coords.values())\n",
    "\n",
    "print(\"#####################################################\\n\")\n",
    "# Find the latitude and longitude for the minimum value\n",
    "min_value = vert_rho_close.min().values\n",
    "print(f\"Min values: {min_value}\\n\")\n",
    "print(vert_rho_close.where(vert_rho_close == min_value, drop=True).coords.values())"
   ]
  },
  {
   "cell_type": "code",
   "execution_count": 94,
   "id": "7c464f99",
   "metadata": {},
   "outputs": [
    {
     "data": {
      "text/plain": [
       "1023.701"
      ]
     },
     "execution_count": 94,
     "metadata": {},
     "output_type": "execute_result"
    }
   ],
   "source": [
    "round(1023.7010498046875, 3)"
   ]
  },
  {
   "cell_type": "code",
   "execution_count": 90,
   "id": "3cc85f6f",
   "metadata": {},
   "outputs": [
    {
     "name": "stdout",
     "output_type": "stream",
     "text": [
      "Mean values: -0.0030454667285084724\n",
      "\n",
      "Median values: 0.001953125\n",
      "\n",
      "Max values: 0.0916748046875\n",
      "\n",
      "ValuesView(Coordinates:\n",
      "    time     float64 1e+04\n",
      "  * lat      (lat) float64 -11.21\n",
      "  * zt       (zt) float64 127.6)\n",
      "#####################################################\n",
      "\n",
      "Min values: -0.072265625\n",
      "\n",
      "ValuesView(Coordinates:\n",
      "    time     float64 1e+04\n",
      "  * lat      (lat) float64 21.17\n",
      "  * zt       (zt) float64 40.42)\n"
     ]
    }
   ],
   "source": [
    "# open\n",
    "mean_value = vert_rho_anom.mean().values\n",
    "print(f\"Mean values: {mean_value}\\n\")\n",
    "\n",
    "median_value = vert_rho_anom.median().values\n",
    "print(f\"Median values: {median_value}\\n\")\n",
    "\n",
    "max_value = vert_rho_anom.max().values\n",
    "print(f\"Max values: {max_value}\\n\")\n",
    "print(vert_rho_anom.where(vert_rho_anom == max_value, drop=True).coords.values())\n",
    "\n",
    "print(\"#####################################################\\n\")\n",
    "# Find the latitude and longitude for the minimum value\n",
    "min_value = vert_rho_anom.min().values\n",
    "print(f\"Min values: {min_value}\\n\")\n",
    "print(vert_rho_anom.where(vert_rho_anom == min_value, drop=True).coords.values())"
   ]
  },
  {
   "cell_type": "code",
   "execution_count": 99,
   "id": "fd865ef1",
   "metadata": {},
   "outputs": [],
   "source": [
    "dage_open = ds_open[\"misc_col_Dage\"].isel(time=0).mean(dim=\"lon\")\n",
    "dage_close = ds_close[\"misc_col_Dage\"].isel(time=0).mean(dim=\"lon\")\n",
    "dage_anom = dage_close - dage_open"
   ]
  },
  {
   "cell_type": "code",
   "execution_count": 100,
   "id": "1089dd2d",
   "metadata": {},
   "outputs": [
    {
     "name": "stdout",
     "output_type": "stream",
     "text": [
      "Mean values: 393.6701965332031\n",
      "\n",
      "Median values: 321.9668884277344\n",
      "\n",
      "Max values: 1167.7127685546875\n",
      "\n",
      "ValuesView(Coordinates:\n",
      "    time     float64 1e+04\n",
      "  * lat      (lat) float64 59.44\n",
      "  * zt       (zt) float64 1.578e+03)\n",
      "#####################################################\n",
      "\n",
      "Min values: 0.04002562537789345\n",
      "\n",
      "ValuesView(Coordinates:\n",
      "    time     float64 1e+04\n",
      "  * lat      (lat) float64 21.17\n",
      "  * zt       (zt) float64 40.42)\n"
     ]
    }
   ],
   "source": [
    "# open\n",
    "mean_value = dage_open.mean().values\n",
    "print(f\"Mean values: {mean_value}\\n\")\n",
    "\n",
    "median_value = dage_open.median().values\n",
    "print(f\"Median values: {median_value}\\n\")\n",
    "\n",
    "max_value = dage_open.max().values\n",
    "print(f\"Max values: {max_value}\\n\")\n",
    "print(dage_open.where(dage_open == max_value, drop=True).coords.values())\n",
    "\n",
    "print(\"#####################################################\\n\")\n",
    "# Find the latitude and longitude for the minimum value\n",
    "min_value = dage_open.min().values\n",
    "print(f\"Min values: {min_value}\\n\")\n",
    "print(dage_open.where(dage_open == min_value, drop=True).coords.values())"
   ]
  },
  {
   "cell_type": "code",
   "execution_count": 105,
   "id": "7008991f",
   "metadata": {},
   "outputs": [
    {
     "name": "stdout",
     "output_type": "stream",
     "text": [
      "Mean values: 379.7463684082031\n",
      "\n",
      "Median values: 309.4822082519531\n",
      "\n",
      "Max values: 1134.0279541015625\n",
      "\n",
      "ValuesView(Coordinates:\n",
      "    time     float64 1e+04\n",
      "  * lat      (lat) float64 59.44\n",
      "  * zt       (zt) float64 1.578e+03)\n",
      "#####################################################\n",
      "\n",
      "Min values: 0.04142289608716965\n",
      "\n",
      "ValuesView(Coordinates:\n",
      "    time     float64 1e+04\n",
      "  * lat      (lat) float64 -21.17\n",
      "  * zt       (zt) float64 40.42)\n"
     ]
    }
   ],
   "source": [
    "# open\n",
    "mean_value = dage_close.mean().values\n",
    "print(f\"Mean values: {mean_value}\\n\")\n",
    "\n",
    "median_value = dage_close.median().values\n",
    "print(f\"Median values: {median_value}\\n\")\n",
    "\n",
    "max_value = dage_close.max().values\n",
    "print(f\"Max values: {max_value}\\n\")\n",
    "print(dage_close.where(dage_close == max_value, drop=True).coords.values())\n",
    "\n",
    "print(\"#####################################################\\n\")\n",
    "# Find the latitude and longitude for the minimum value\n",
    "min_value = dage_close.min().values\n",
    "print(f\"Min values: {min_value}\\n\")\n",
    "print(dage_close.where(dage_close == min_value, drop=True).coords.values())"
   ]
  },
  {
   "cell_type": "code",
   "execution_count": 114,
   "id": "fa14d92c",
   "metadata": {},
   "outputs": [
    {
     "name": "stdout",
     "output_type": "stream",
     "text": [
      "Mean values: -13.92383861541748\n",
      "\n",
      "Median values: -8.951202392578125\n",
      "\n",
      "Max values: 15.225341796875\n",
      "\n",
      "ValuesView(Coordinates:\n",
      "    time     float64 1e+04\n",
      "  * lat      (lat) float64 -14.48\n",
      "  * zt       (zt) float64 641.6)\n",
      "#####################################################\n",
      "\n",
      "Min values: -62.67266845703125\n",
      "\n",
      "ValuesView(Coordinates:\n",
      "    time     float64 1e+04\n",
      "  * lat      (lat) float64 -7.984\n",
      "  * zt       (zt) float64 1.578e+03)\n"
     ]
    }
   ],
   "source": [
    "# open\n",
    "mean_value = dage_anom.mean().values\n",
    "print(f\"Mean values: {mean_value}\\n\")\n",
    "\n",
    "median_value = dage_anom.median().values\n",
    "print(f\"Median values: {median_value}\\n\")\n",
    "\n",
    "max_value = dage_anom.max().values\n",
    "print(f\"Max values: {max_value}\\n\")\n",
    "print(dage_anom.where(dage_anom == max_value, drop=True).coords.values())\n",
    "\n",
    "print(\"#####################################################\\n\")\n",
    "# Find the latitude and longitude for the minimum value\n",
    "min_value = dage_anom.min().values\n",
    "print(f\"Min values: {min_value}\\n\")\n",
    "print(dage_anom.where(dage_anom == min_value, drop=True).coords.values())"
   ]
  },
  {
   "cell_type": "code",
   "execution_count": 116,
   "id": "c3c97534",
   "metadata": {},
   "outputs": [],
   "source": [
    "ds_open = xr.open_dataset(\"../data/open/fields_biogem_2d.nc\")\n",
    "ds_close = xr.open_dataset(\"../data/close/fields_biogem_2d.nc\")"
   ]
  },
  {
   "cell_type": "code",
   "execution_count": 119,
   "id": "ad6227ef",
   "metadata": {},
   "outputs": [],
   "source": [
    "psi_open = ds_open[\"phys_opsi\"].isel(time=0)\n",
    "psi_close = ds_close[\"phys_opsi\"].isel(time=0)\n",
    "psi_anom = psi_close - psi_open"
   ]
  },
  {
   "cell_type": "code",
   "execution_count": 120,
   "id": "27a91c34",
   "metadata": {},
   "outputs": [
    {
     "name": "stdout",
     "output_type": "stream",
     "text": [
      "Mean values: 0.9970414638519287\n",
      "\n",
      "Median values: -0.9395021796226501\n",
      "\n",
      "Max values: 53.91252899169922\n",
      "\n",
      "ValuesView(Coordinates:\n",
      "    time     float64 1e+04\n",
      "  * lat_moc  (lat_moc) float64 -41.81\n",
      "  * zt_moc   (zt_moc) float64 80.84)\n",
      "#####################################################\n",
      "\n",
      "Min values: -42.034385681152344\n",
      "\n",
      "ValuesView(Coordinates:\n",
      "    time     float64 1e+04\n",
      "  * lat_moc  (lat_moc) float64 -12.84\n",
      "  * zt_moc   (zt_moc) float64 80.84)\n"
     ]
    }
   ],
   "source": [
    "mean_value = psi_open.mean().values\n",
    "print(f\"Mean values: {mean_value}\\n\")\n",
    "\n",
    "median_value = psi_open.median().values\n",
    "print(f\"Median values: {median_value}\\n\")\n",
    "\n",
    "max_value = psi_open.max().values\n",
    "print(f\"Max values: {max_value}\\n\")\n",
    "print(psi_open.where(psi_open == max_value, drop=True).coords.values())\n",
    "\n",
    "print(\"#####################################################\\n\")\n",
    "# Find the latitude and longitude for the minimum value\n",
    "min_value = psi_open.min().values\n",
    "print(f\"Min values: {min_value}\\n\")\n",
    "print(psi_open.where(psi_open == min_value, drop=True).coords.values())"
   ]
  },
  {
   "cell_type": "code",
   "execution_count": 125,
   "id": "8aee2e5f",
   "metadata": {},
   "outputs": [
    {
     "name": "stdout",
     "output_type": "stream",
     "text": [
      "Mean values: 1.2417718172073364\n",
      "\n",
      "Median values: -0.9459562301635742\n",
      "\n",
      "Max values: 54.14257049560547\n",
      "\n",
      "ValuesView(Coordinates:\n",
      "    time     float64 1e+04\n",
      "  * lat_moc  (lat_moc) float64 -41.81\n",
      "  * zt_moc   (zt_moc) float64 80.84)\n",
      "#####################################################\n",
      "\n",
      "Min values: -41.1993408203125\n",
      "\n",
      "ValuesView(Coordinates:\n",
      "    time     float64 1e+04\n",
      "  * lat_moc  (lat_moc) float64 -12.84\n",
      "  * zt_moc   (zt_moc) float64 80.84)\n"
     ]
    }
   ],
   "source": [
    "mean_value = psi_close.mean().values\n",
    "print(f\"Mean values: {mean_value}\\n\")\n",
    "\n",
    "median_value = psi_close.median().values\n",
    "print(f\"Median values: {median_value}\\n\")\n",
    "\n",
    "max_value = psi_close.max().values\n",
    "print(f\"Max values: {max_value}\\n\")\n",
    "print(psi_close.where(psi_close == max_value, drop=True).coords.values())\n",
    "\n",
    "print(\"#####################################################\\n\")\n",
    "# Find the latitude and longitude for the minimum value\n",
    "min_value = psi_close.min().values\n",
    "print(f\"Min values: {min_value}\\n\")\n",
    "print(psi_close.where(psi_close == min_value, drop=True).coords.values())"
   ]
  },
  {
   "cell_type": "code",
   "execution_count": 130,
   "id": "4206a9ee",
   "metadata": {},
   "outputs": [
    {
     "name": "stdout",
     "output_type": "stream",
     "text": [
      "Mean values: 0.24473010003566742\n",
      "\n",
      "Median values: 0.05022573471069336\n",
      "\n",
      "Max values: 2.90616512298584\n",
      "\n",
      "ValuesView(Coordinates:\n",
      "    time     float64 1e+04\n",
      "  * lat_moc  (lat_moc) float64 -46.24\n",
      "  * zt_moc   (zt_moc) float64 1.426e+03)\n",
      "#####################################################\n",
      "\n",
      "Min values: -2.801753044128418\n",
      "\n",
      "ValuesView(Coordinates:\n",
      "    time     float64 1e+04\n",
      "  * lat_moc  (lat_moc) float64 -56.44\n",
      "  * zt_moc   (zt_moc) float64 2.52e+03)\n"
     ]
    }
   ],
   "source": [
    "mean_value = psi_anom.mean().values\n",
    "print(f\"Mean values: {mean_value}\\n\")\n",
    "\n",
    "median_value = psi_anom.median().values\n",
    "print(f\"Median values: {median_value}\\n\")\n",
    "\n",
    "max_value = psi_anom.max().values\n",
    "print(f\"Max values: {max_value}\\n\")\n",
    "print(psi_anom.where(psi_anom == max_value, drop=True).coords.values())\n",
    "\n",
    "print(\"#####################################################\\n\")\n",
    "# Find the latitude and longitude for the minimum value\n",
    "min_value = psi_anom.min().values\n",
    "print(f\"Min values: {min_value}\\n\")\n",
    "print(psi_anom.where(psi_anom == min_value, drop=True).coords.values())"
   ]
  },
  {
   "cell_type": "code",
   "execution_count": 134,
   "id": "8f4bedef",
   "metadata": {},
   "outputs": [
    {
     "data": {
      "text/plain": [
       "0.05"
      ]
     },
     "execution_count": 134,
     "metadata": {},
     "output_type": "execute_result"
    }
   ],
   "source": [
    "round( 0.05022573471069336, 3)"
   ]
  },
  {
   "cell_type": "code",
   "execution_count": null,
   "id": "235751f1",
   "metadata": {},
   "outputs": [],
   "source": []
  }
 ],
 "metadata": {
  "kernelspec": {
   "display_name": "Python 3 (ipykernel)",
   "language": "python",
   "name": "python3"
  },
  "language_info": {
   "codemirror_mode": {
    "name": "ipython",
    "version": 3
   },
   "file_extension": ".py",
   "mimetype": "text/x-python",
   "name": "python",
   "nbconvert_exporter": "python",
   "pygments_lexer": "ipython3",
   "version": "3.11.5"
  }
 },
 "nbformat": 4,
 "nbformat_minor": 5
}
