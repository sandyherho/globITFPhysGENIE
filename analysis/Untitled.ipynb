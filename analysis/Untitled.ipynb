{
 "cells": [
  {
   "cell_type": "code",
   "execution_count": 1,
   "id": "83bee683",
   "metadata": {},
   "outputs": [],
   "source": [
    "import numpy as np\n",
    "import pandas as pd\n",
    "import xarray as xr\n",
    "import matplotlib.pyplot as plt\n",
    "import cmocean.cm as cm\n",
    "import seaborn as sns\n",
    "from scipy.stats import mannwhitneyu, ks_2samp\n",
    "plt.style.use(\"ggplot\")"
   ]
  },
  {
   "cell_type": "code",
   "execution_count": 3,
   "id": "89a5af75",
   "metadata": {},
   "outputs": [],
   "source": [
    "ds_open = xr.open_dataset(\"../data/open/fields_biogem_3d.nc\")\n",
    "ds_close = xr.open_dataset(\"../data/close/fields_biogem_3d.nc\")"
   ]
  },
  {
   "cell_type": "code",
   "execution_count": 11,
   "id": "17f97f8f",
   "metadata": {},
   "outputs": [],
   "source": [
    "open_rho = ds_open[\"phys_ocn_rho\"].isel(time=0, zt=1).mean(dim=\"lon\").to_numpy()\n",
    "close_rho = ds_close[\"phys_ocn_rho\"].isel(time=0, zt=1).mean(dim=\"lon\").to_numpy()"
   ]
  },
  {
   "cell_type": "code",
   "execution_count": 12,
   "id": "8c21a485",
   "metadata": {},
   "outputs": [
    {
     "name": "stdout",
     "output_type": "stream",
     "text": [
      "Mann-Whitney U test statistic: 655.0\n",
      "Mann-Whitney U test p-value: 0.942\n",
      "The Mann-Whitney U test does not provide enough evidence to reject the null hypothesis of no difference between the distributions.\n",
      "KS test statistic: 0.111\n",
      "KS test p-value: 0.982\n",
      "The KS test does not provide enough evidence to reject the null hypothesis of no difference between the distributions.\n"
     ]
    }
   ],
   "source": [
    "# Mann-Whitney U test\n",
    "statistic_mw, p_value_mw = mannwhitneyu(open_rho, close_rho)\n",
    "print(f'Mann-Whitney U test statistic: {round(statistic_mw, 3)}')\n",
    "print(f'Mann-Whitney U test p-value: {round(p_value_mw, 3)}')\n",
    "\n",
    "# Interpretation of Mann-Whitney U test\n",
    "if p_value_mw < 0.05:\n",
    "    print('The Mann-Whitney U test suggests a significant difference between the distributions of the two arrays.')\n",
    "else:\n",
    "    print('The Mann-Whitney U test does not provide enough evidence to reject the null hypothesis of no difference between the distributions.')\n",
    "\n",
    "# Kolmogorov-Smirnov (KS) test\n",
    "statistic_ks, p_value_ks = ks_2samp(open_rho, close_rho)\n",
    "print(f'KS test statistic: {round(statistic_ks, 3)}')\n",
    "print(f'KS test p-value: {round(p_value_ks, 3)}')\n",
    "\n",
    "# Interpretation of KS test\n",
    "if p_value_ks < 0.05:\n",
    "    print('The KS test suggests a significant difference between the distributions of the two arrays.')\n",
    "else:\n",
    "    print('The KS test does not provide enough evidence to reject the null hypothesis of no difference between the distributions.')"
   ]
  },
  {
   "cell_type": "code",
   "execution_count": null,
   "id": "52c725ce",
   "metadata": {},
   "outputs": [],
   "source": []
  }
 ],
 "metadata": {
  "kernelspec": {
   "display_name": "Python 3 (ipykernel)",
   "language": "python",
   "name": "python3"
  },
  "language_info": {
   "codemirror_mode": {
    "name": "ipython",
    "version": 3
   },
   "file_extension": ".py",
   "mimetype": "text/x-python",
   "name": "python",
   "nbconvert_exporter": "python",
   "pygments_lexer": "ipython3",
   "version": "3.11.5"
  }
 },
 "nbformat": 4,
 "nbformat_minor": 5
}
